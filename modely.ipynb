{
 "cells": [
  {
   "cell_type": "code",
   "execution_count": 45,
   "metadata": {},
   "outputs": [],
   "source": [
    "import pandas as pd\n",
    "import numpy as np\n",
    "import matplotlib.pyplot as plt\n",
    "import statsmodels.api as sm\n",
    "import seaborn as sns\n",
    "from sklearn.model_selection import train_test_split\n",
    "from sklearn.feature_selection import RFE\n",
    "from sklearn.linear_model import LogisticRegression\n",
    "from imblearn.over_sampling import SMOTE"
   ]
  },
  {
   "cell_type": "code",
   "execution_count": 46,
   "metadata": {},
   "outputs": [],
   "source": [
    "classifierData = pd.read_csv(\"./Data/Tidy/classifierData.csv\")\n",
    "X = classifierData.drop(\"ATL\", axis=1)\n",
    "y = classifierData[\"ATL\"]"
   ]
  },
  {
   "cell_type": "code",
   "execution_count": 47,
   "metadata": {},
   "outputs": [
    {
     "name": "stderr",
     "output_type": "stream",
     "text": [
      "/home/anaconda3/lib/python3.7/site-packages/sklearn/linear_model/logistic.py:433: FutureWarning: Default solver will be changed to 'lbfgs' in 0.22. Specify a solver to silence this warning.\n",
      "  \n",
      "/home/anaconda3/lib/python3.7/site-packages/sklearn/linear_model/logistic.py:433: FutureWarning: Default solver will be changed to 'lbfgs' in 0.22. Specify a solver to silence this warning.\n",
      "  \n",
      "/home/anaconda3/lib/python3.7/site-packages/sklearn/linear_model/logistic.py:433: FutureWarning: Default solver will be changed to 'lbfgs' in 0.22. Specify a solver to silence this warning.\n",
      "  \n"
     ]
    },
    {
     "data": {
      "text/plain": [
       "array([False,  True,  True,  True])"
      ]
     },
     "execution_count": 47,
     "metadata": {},
     "output_type": "execute_result"
    }
   ],
   "source": [
    "model = LogisticRegression()\n",
    "rfe = RFE(model, 3)\n",
    "X_rfe = rfe.fit_transform(X, y)  \n",
    "model.fit(X_rfe, y)\n",
    "rfe.support_"
   ]
  },
  {
   "cell_type": "code",
   "execution_count": 48,
   "metadata": {},
   "outputs": [
    {
     "data": {
      "image/png": "[encoded data removed]",
      "text/plain": [
       "<Figure size 432x288 with 2 Axes>"
      ]
     },
     "metadata": {
      "needs_background": "light"
     },
     "output_type": "display_data"
    }
   ],
   "source": [
    "plt.figure()\n",
    "cor = classifierData.corr()\n",
    "sns.heatmap(cor, annot=True, cmap=plt.cm.Reds)\n",
    "plt.show()"
   ]
  },
  {
   "cell_type": "code",
   "execution_count": 49,
   "metadata": {},
   "outputs": [],
   "source": [
    "X.drop(\"Promedio de duración\", axis=1,    inplace=True)\n",
    "X_train, X_test, y_train, y_test = train_test_split(X, y, test_size=0.3, random_state=47)"
   ]
  },
  {
   "cell_type": "code",
   "execution_count": 50,
   "metadata": {},
   "outputs": [],
   "source": [
    "np.random.seed(47)\n",
    "os = SMOTE(kind='regular',k_neighbors=2)\n",
    "X_train, y_train = os.fit_sample(X_train, y_train)"
   ]
  },
  {
   "cell_type": "code",
   "execution_count": 52,
   "metadata": {},
   "outputs": [
    {
     "name": "stdout",
     "output_type": "stream",
     "text": [
      "Optimization terminated successfully.\n",
      "         Current function value: 0.495441\n",
      "         Iterations 7\n"
     ]
    },
    {
     "data": {
      "text/html": [
       "<table class=\"simpletable\">\n",
       "<tr>\n",
       "        <td>Model:</td>              <td>Logit</td>      <td>Pseudo R-squared:</td>    <td>0.285</td>  \n",
       "</tr>\n",
       "<tr>\n",
       "  <td>Dependent Variable:</td>         <td>y</td>              <td>AIC:</td>         <td>136.7964</td> \n",
       "</tr>\n",
       "<tr>\n",
       "         <td>Date:</td>        <td>2019-08-06 02:10</td>       <td>BIC:</td>         <td>145.4448</td> \n",
       "</tr>\n",
       "<tr>\n",
       "   <td>No. Observations:</td>         <td>132</td>        <td>Log-Likelihood:</td>    <td>-65.398</td> \n",
       "</tr>\n",
       "<tr>\n",
       "       <td>Df Model:</td>              <td>2</td>            <td>LL-Null:</td>        <td>-91.495</td> \n",
       "</tr>\n",
       "<tr>\n",
       "     <td>Df Residuals:</td>           <td>129</td>         <td>LLR p-value:</td>    <td>4.6358e-12</td>\n",
       "</tr>\n",
       "<tr>\n",
       "      <td>Converged:</td>           <td>1.0000</td>           <td>Scale:</td>         <td>1.0000</td>  \n",
       "</tr>\n",
       "<tr>\n",
       "    <td>No. Iterations:</td>        <td>7.0000</td>              <td></td>               <td></td>     \n",
       "</tr>\n",
       "</table>\n",
       "<table class=\"simpletable\">\n",
       "<tr>\n",
       "   <td></td>   <th>Coef.</th>  <th>Std.Err.</th>    <th>z</th>     <th>P>|z|</th> <th>[0.025</th>  <th>0.975]</th> \n",
       "</tr>\n",
       "<tr>\n",
       "  <th>x1</th> <td>0.1332</td>   <td>0.0313</td>  <td>4.2617</td>  <td>0.0000</td> <td>0.0720</td>  <td>0.1945</td> \n",
       "</tr>\n",
       "<tr>\n",
       "  <th>x2</th> <td>-0.6641</td>  <td>0.1992</td>  <td>-3.3336</td> <td>0.0009</td> <td>-1.0545</td> <td>-0.2736</td>\n",
       "</tr>\n",
       "<tr>\n",
       "  <th>x3</th> <td>-0.0648</td>  <td>0.0176</td>  <td>-3.6705</td> <td>0.0002</td> <td>-0.0994</td> <td>-0.0302</td>\n",
       "</tr>\n",
       "</table>"
      ],
      "text/plain": [
       "<class 'statsmodels.iolib.summary2.Summary'>\n",
       "\"\"\"\n",
       "                         Results: Logit\n",
       "=================================================================\n",
       "Model:              Logit            Pseudo R-squared: 0.285     \n",
       "Dependent Variable: y                AIC:              136.7964  \n",
       "Date:               2019-08-06 02:10 BIC:              145.4448  \n",
       "No. Observations:   132              Log-Likelihood:   -65.398   \n",
       "Df Model:           2                LL-Null:          -91.495   \n",
       "Df Residuals:       129              LLR p-value:      4.6358e-12\n",
       "Converged:          1.0000           Scale:            1.0000    \n",
       "No. Iterations:     7.0000                                       \n",
       "--------------------------------------------------------------------\n",
       "       Coef.     Std.Err.       z       P>|z|      [0.025     0.975]\n",
       "--------------------------------------------------------------------\n",
       "x1     0.1332      0.0313     4.2617    0.0000     0.0720     0.1945\n",
       "x2    -0.6641      0.1992    -3.3336    0.0009    -1.0545    -0.2736\n",
       "x3    -0.0648      0.0176    -3.6705    0.0002    -0.0994    -0.0302\n",
       "=================================================================\n",
       "\n",
       "\"\"\""
      ]
     },
     "execution_count": 52,
     "metadata": {},
     "output_type": "execute_result"
    }
   ],
   "source": [
    "log = sm.Logit(y_train, X_train)\n",
    "result = log.fit()\n",
    "result.summary2()"
   ]
  },
  {
   "cell_type": "code",
   "execution_count": null,
   "metadata": {},
   "outputs": [],
   "source": []
  }
 ],
 "metadata": {
  "kernelspec": {
   "display_name": "Python 3",
   "language": "python",
   "name": "python3"
  },
  "language_info": {
   "codemirror_mode": {
    "name": "ipython",
    "version": 3
   },
   "file_extension": ".py",
   "mimetype": "text/x-python",
   "name": "python",
   "nbconvert_exporter": "python",
   "pygments_lexer": "ipython3",
   "version": "3.7.3"
  }
 },
 "nbformat": 4,
 "nbformat_minor": 2
}
