{
 "cells": [
  {
   "cell_type": "code",
   "execution_count": 5,
   "metadata": {},
   "outputs": [],
   "source": [
    "import pandas as pd\n",
    "import numpy as np"
   ]
  },
  {
   "cell_type": "code",
   "execution_count": 4,
   "metadata": {},
   "outputs": [],
   "source": [
    "interactionsData = pd.read_excel(\"./Data/Raw/Interacciones.xlsx\")\n",
    "demographicData = pd.read_excel(\"./Data/Raw/Demografía.xlsx\")\n",
    "demographicData.drop([\"Tiempo en pagina\"], axis=1, inplace=True)\n",
    "classifierData = pd.merge(interactionsData, demographicData, on=\"ID\", how=\"left\")\n",
    "classifierData[\"ATL\"] = classifierData[\"browser\"].isnull().astype(int)\n",
    "classifierData.drop([\"ID\", \"Fecha_x\", \"browser\", \"Ciudad\", \"Fecha_y\", \"device\",\n",
    "                     \"Sistema Operativo\", \"Sesion \", \"Duracion\"],\n",
    "                    axis=1, inplace=True)\n",
    "classifierData.to_csv(\"./Data/Tidy/classifierData.csv\", index=False)\n",
    "classifierData.head()"
   ]
  },
  {
   "cell_type": "code",
   "execution_count": 7,
   "metadata": {},
   "outputs": [
    {
     "data": {
      "text/html": [
       "<div>\n",
       "<style scoped>\n",
       "    .dataframe tbody tr th:only-of-type {\n",
       "        vertical-align: middle;\n",
       "    }\n",
       "\n",
       "    .dataframe tbody tr th {\n",
       "        vertical-align: top;\n",
       "    }\n",
       "\n",
       "    .dataframe thead tr th {\n",
       "        text-align: left;\n",
       "    }\n",
       "\n",
       "    .dataframe thead tr:last-of-type th {\n",
       "        text-align: right;\n",
       "    }\n",
       "</style>\n",
       "<table border=\"1\" class=\"dataframe\">\n",
       "  <thead>\n",
       "    <tr>\n",
       "      <th></th>\n",
       "      <th></th>\n",
       "      <th colspan=\"2\" halign=\"left\">inversion</th>\n",
       "    </tr>\n",
       "    <tr>\n",
       "      <th></th>\n",
       "      <th>Formato</th>\n",
       "      <th>Corto</th>\n",
       "      <th>Largo</th>\n",
       "    </tr>\n",
       "    <tr>\n",
       "      <th>channel</th>\n",
       "      <th>medium</th>\n",
       "      <th></th>\n",
       "      <th></th>\n",
       "    </tr>\n",
       "  </thead>\n",
       "  <tbody>\n",
       "    <tr>\n",
       "      <th rowspan=\"3\" valign=\"top\">Caracol</th>\n",
       "      <th>Internet</th>\n",
       "      <td>727864.857143</td>\n",
       "      <td>828464.222222</td>\n",
       "    </tr>\n",
       "    <tr>\n",
       "      <th>Radio</th>\n",
       "      <td>804398.555556</td>\n",
       "      <td>704447.500000</td>\n",
       "    </tr>\n",
       "    <tr>\n",
       "      <th>Televisión</th>\n",
       "      <td>734155.384615</td>\n",
       "      <td>736084.454545</td>\n",
       "    </tr>\n",
       "    <tr>\n",
       "      <th rowspan=\"3\" valign=\"top\">RCN</th>\n",
       "      <th>Internet</th>\n",
       "      <td>57422.000000</td>\n",
       "      <td>46142.857143</td>\n",
       "    </tr>\n",
       "    <tr>\n",
       "      <th>Radio</th>\n",
       "      <td>45220.000000</td>\n",
       "      <td>48450.000000</td>\n",
       "    </tr>\n",
       "    <tr>\n",
       "      <th>Televisión</th>\n",
       "      <td>53833.250000</td>\n",
       "      <td>51680.000000</td>\n",
       "    </tr>\n",
       "  </tbody>\n",
       "</table>\n",
       "</div>"
      ],
      "text/plain": [
       "                        inversion               \n",
       "Formato                     Corto          Largo\n",
       "channel medium                                  \n",
       "Caracol Internet    727864.857143  828464.222222\n",
       "        Radio       804398.555556  704447.500000\n",
       "        Televisión  734155.384615  736084.454545\n",
       "RCN     Internet     57422.000000   46142.857143\n",
       "        Radio        45220.000000   48450.000000\n",
       "        Televisión   53833.250000   51680.000000"
      ]
     },
     "execution_count": 7,
     "metadata": {},
     "output_type": "execute_result"
    }
   ],
   "source": [
    "parrillaData = pd.read_excel(\"./Data/Raw/Parrilla.xlsx\")\n",
    "parrillaTable = pd.pivot_table(parrillaData, index=[\"channel\", \"medium\"], columns=[\"Formato\"],\n",
    "                           values=[\"inversion\"], aggfunc=np.mean)\n",
    "parrillaTable"
   ]
  }
 ],
 "metadata": {
  "kernelspec": {
   "display_name": "Python 3",
   "language": "python",
   "name": "python3"
  },
  "language_info": {
   "codemirror_mode": {
    "name": "ipython",
    "version": 3
   },
   "file_extension": ".py",
   "mimetype": "text/x-python",
   "name": "python",
   "nbconvert_exporter": "python",
   "pygments_lexer": "ipython3",
   "version": "3.7.3"
  }
 },
 "nbformat": 4,
 "nbformat_minor": 2
}
