{
 "cells": [
  {
   "cell_type": "code",
   "execution_count": 1,
   "metadata": {},
   "outputs": [],
   "source": [
    "import pandas as pd"
   ]
  },
  {
   "cell_type": "code",
   "execution_count": 4,
   "metadata": {},
   "outputs": [],
   "source": [
    "interactionsData = pd.read_excel(\"./Data/Raw/Interacciones.xlsx\")\n",
    "demographicData = pd.read_excel(\"./Data/Raw/Demografía.xlsx\")\n",
    "demographicData.drop([\"Tiempo en pagina\"], axis=1, inplace=True)\n",
    "classifierData = pd.merge(interactionsData, demographicData, on=\"ID\", how=\"left\")\n",
    "classifierData[\"ATL\"] = classifierData[\"browser\"].isnull().astype(int)\n",
    "classifierData.drop([\"ID\", \"Fecha_x\", \"browser\", \"Ciudad\", \"Fecha_y\", \"device\",\n",
    "                     \"Sistema Operativo\", \"Sesion \", \"Duracion\"],\n",
    "                    axis=1, inplace=True)\n",
    "classifierData.to_csv(\"./Data/Tidy/classifierData.csv\", index=False)\n",
    "classifierData.head()"
   ]
  },
  {
   "cell_type": "code",
   "execution_count": 27,
   "metadata": {},
   "outputs": [
    {
     "data": {
      "text/html": [
       "<div>\n",
       "<style scoped>\n",
       "    .dataframe tbody tr th:only-of-type {\n",
       "        vertical-align: middle;\n",
       "    }\n",
       "\n",
       "    .dataframe tbody tr th {\n",
       "        vertical-align: top;\n",
       "    }\n",
       "\n",
       "    .dataframe thead th {\n",
       "        text-align: right;\n",
       "    }\n",
       "</style>\n",
       "<table border=\"1\" class=\"dataframe\">\n",
       "  <thead>\n",
       "    <tr style=\"text-align: right;\">\n",
       "      <th></th>\n",
       "      <th>channel</th>\n",
       "      <th>end_date</th>\n",
       "      <th>Formato</th>\n",
       "      <th>inversion</th>\n",
       "      <th>medium</th>\n",
       "      <th>rating</th>\n",
       "      <th>reference</th>\n",
       "      <th>start_date</th>\n",
       "    </tr>\n",
       "  </thead>\n",
       "  <tbody>\n",
       "    <tr>\n",
       "      <th>0</th>\n",
       "      <td>Caracol</td>\n",
       "      <td>2019-06-01T09:55:16.000Z</td>\n",
       "      <td>Corto</td>\n",
       "      <td>648723</td>\n",
       "      <td>Radio</td>\n",
       "      <td>3</td>\n",
       "      <td>Tomala</td>\n",
       "      <td>2019-06-01T09:54:56.000Z</td>\n",
       "    </tr>\n",
       "    <tr>\n",
       "      <th>1</th>\n",
       "      <td>Caracol</td>\n",
       "      <td>2019-06-01T10:29:44.000Z</td>\n",
       "      <td>Largo</td>\n",
       "      <td>949072</td>\n",
       "      <td>Televisión</td>\n",
       "      <td>8</td>\n",
       "      <td>Tomala</td>\n",
       "      <td>2019-06-01T10:29:24.000Z</td>\n",
       "    </tr>\n",
       "    <tr>\n",
       "      <th>2</th>\n",
       "      <td>Caracol</td>\n",
       "      <td>2019-06-01T14:44:27.000Z</td>\n",
       "      <td>Largo</td>\n",
       "      <td>911123</td>\n",
       "      <td>Internet</td>\n",
       "      <td>2</td>\n",
       "      <td>Disfrutala</td>\n",
       "      <td>2019-06-01T14:44:07.000Z</td>\n",
       "    </tr>\n",
       "    <tr>\n",
       "      <th>3</th>\n",
       "      <td>Caracol</td>\n",
       "      <td>2019-06-01T19:20:52.000Z</td>\n",
       "      <td>Largo</td>\n",
       "      <td>922200</td>\n",
       "      <td>Internet</td>\n",
       "      <td>2</td>\n",
       "      <td>Tomala</td>\n",
       "      <td>2019-06-01T19:20:32.000Z</td>\n",
       "    </tr>\n",
       "    <tr>\n",
       "      <th>4</th>\n",
       "      <td>Caracol</td>\n",
       "      <td>2019-06-02T09:54:08.000Z</td>\n",
       "      <td>Corto</td>\n",
       "      <td>733026</td>\n",
       "      <td>Internet</td>\n",
       "      <td>3</td>\n",
       "      <td>Disfrutala</td>\n",
       "      <td>2019-06-02T09:53:48.000Z</td>\n",
       "    </tr>\n",
       "  </tbody>\n",
       "</table>\n",
       "</div>"
      ],
      "text/plain": [
       "   channel                  end_date Formato  inversion      medium  rating  \\\n",
       "0  Caracol  2019-06-01T09:55:16.000Z   Corto     648723       Radio       3   \n",
       "1  Caracol  2019-06-01T10:29:44.000Z   Largo     949072  Televisión       8   \n",
       "2  Caracol  2019-06-01T14:44:27.000Z   Largo     911123    Internet       2   \n",
       "3  Caracol  2019-06-01T19:20:52.000Z   Largo     922200    Internet       2   \n",
       "4  Caracol  2019-06-02T09:54:08.000Z   Corto     733026    Internet       3   \n",
       "\n",
       "    reference                start_date  \n",
       "0      Tomala  2019-06-01T09:54:56.000Z  \n",
       "1      Tomala  2019-06-01T10:29:24.000Z  \n",
       "2  Disfrutala  2019-06-01T14:44:07.000Z  \n",
       "3      Tomala  2019-06-01T19:20:32.000Z  \n",
       "4  Disfrutala  2019-06-02T09:53:48.000Z  "
      ]
     },
     "execution_count": 27,
     "metadata": {},
     "output_type": "execute_result"
    }
   ],
   "source": [
    "parrillaData = pd.read_excel(\"./Data/Raw/Parrilla.xlsx\")\n",
    "parrillaData.head()"
   ]
  }
 ],
 "metadata": {
  "kernelspec": {
   "display_name": "Python 3",
   "language": "python",
   "name": "python3"
  },
  "language_info": {
   "codemirror_mode": {
    "name": "ipython",
    "version": 3
   },
   "file_extension": ".py",
   "mimetype": "text/x-python",
   "name": "python",
   "nbconvert_exporter": "python",
   "pygments_lexer": "ipython3",
   "version": "3.7.3"
  }
 },
 "nbformat": 4,
 "nbformat_minor": 2
}
